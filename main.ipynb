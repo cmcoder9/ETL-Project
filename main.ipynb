{
 "metadata": {
  "language_info": {
   "codemirror_mode": {
    "name": "ipython",
    "version": 3
   },
   "file_extension": ".py",
   "mimetype": "text/x-python",
   "name": "python",
   "nbconvert_exporter": "python",
   "pygments_lexer": "ipython3",
   "version": "3.8.5-final"
  },
  "orig_nbformat": 2,
  "kernelspec": {
   "name": "python3",
   "display_name": "Python 3.8.5 64-bit ('dv_u12': conda)",
   "metadata": {
    "interpreter": {
     "hash": "259e34989b39ecd60829de18cb2bd343dc861393469db2b5f25f6dac376330e1"
    }
   }
  }
 },
 "nbformat": 4,
 "nbformat_minor": 2,
 "cells": [
  {
   "cell_type": "code",
   "execution_count": 1,
   "metadata": {},
   "outputs": [],
   "source": [
    "# Import dependencies\n",
    "import pandas as pd\n",
    "from sqlalchemy import create_engine"
   ]
  },
  {
   "cell_type": "code",
   "execution_count": 2,
   "metadata": {},
   "outputs": [],
   "source": [
    "# Read in csv files\n",
    "csv_big_dance = \"Resources/big_dance_csv (1).csv\"\n",
    "csv_draft_pick = \"Resources/1976_to_2015_draftees_edit2 (1).csv\""
   ]
  },
  {
   "cell_type": "code",
   "execution_count": 3,
   "metadata": {},
   "outputs": [
    {
     "output_type": "execute_result",
     "data": {
      "text/plain": [
       "   Year  Round  Region Number Region Name  Seed  Score        Team  \\\n",
       "0  1985      1              1        West     1     83    St Johns   \n",
       "1  1985      1              1        West     2     81         VCU   \n",
       "2  1985      1              1        West     3     65    NC State   \n",
       "3  1985      1              1        West     4     85        UNLV   \n",
       "4  1985      1              1        West     5     58  Washington   \n",
       "\n",
       "         Team.1  Score.1  Seed.1  \n",
       "0      Southern       59      16  \n",
       "1      Marshall       65      15  \n",
       "2        Nevada       56      14  \n",
       "3  San Diego St       80      13  \n",
       "4      Kentucky       65      12  "
      ],
      "text/html": "<div>\n<style scoped>\n    .dataframe tbody tr th:only-of-type {\n        vertical-align: middle;\n    }\n\n    .dataframe tbody tr th {\n        vertical-align: top;\n    }\n\n    .dataframe thead th {\n        text-align: right;\n    }\n</style>\n<table border=\"1\" class=\"dataframe\">\n  <thead>\n    <tr style=\"text-align: right;\">\n      <th></th>\n      <th>Year</th>\n      <th>Round</th>\n      <th>Region Number</th>\n      <th>Region Name</th>\n      <th>Seed</th>\n      <th>Score</th>\n      <th>Team</th>\n      <th>Team.1</th>\n      <th>Score.1</th>\n      <th>Seed.1</th>\n    </tr>\n  </thead>\n  <tbody>\n    <tr>\n      <th>0</th>\n      <td>1985</td>\n      <td>1</td>\n      <td>1</td>\n      <td>West</td>\n      <td>1</td>\n      <td>83</td>\n      <td>St Johns</td>\n      <td>Southern</td>\n      <td>59</td>\n      <td>16</td>\n    </tr>\n    <tr>\n      <th>1</th>\n      <td>1985</td>\n      <td>1</td>\n      <td>1</td>\n      <td>West</td>\n      <td>2</td>\n      <td>81</td>\n      <td>VCU</td>\n      <td>Marshall</td>\n      <td>65</td>\n      <td>15</td>\n    </tr>\n    <tr>\n      <th>2</th>\n      <td>1985</td>\n      <td>1</td>\n      <td>1</td>\n      <td>West</td>\n      <td>3</td>\n      <td>65</td>\n      <td>NC State</td>\n      <td>Nevada</td>\n      <td>56</td>\n      <td>14</td>\n    </tr>\n    <tr>\n      <th>3</th>\n      <td>1985</td>\n      <td>1</td>\n      <td>1</td>\n      <td>West</td>\n      <td>4</td>\n      <td>85</td>\n      <td>UNLV</td>\n      <td>San Diego St</td>\n      <td>80</td>\n      <td>13</td>\n    </tr>\n    <tr>\n      <th>4</th>\n      <td>1985</td>\n      <td>1</td>\n      <td>1</td>\n      <td>West</td>\n      <td>5</td>\n      <td>58</td>\n      <td>Washington</td>\n      <td>Kentucky</td>\n      <td>65</td>\n      <td>12</td>\n    </tr>\n  </tbody>\n</table>\n</div>"
     },
     "metadata": {},
     "execution_count": 3
    }
   ],
   "source": [
    "# Create pandas table for tournament data\n",
    "tourney_data = pd.read_csv(csv_big_dance)\n",
    "tourney_data.head()"
   ]
  },
  {
   "cell_type": "code",
   "execution_count": 4,
   "metadata": {},
   "outputs": [
    {
     "output_type": "execute_result",
     "data": {
      "text/plain": [
       "   year  round  seed_1   college_1     college_2  seed_2\n",
       "0  1985      1       1    St Johns      Southern      16\n",
       "1  1985      1       2         VCU      Marshall      15\n",
       "2  1985      1       3    NC State        Nevada      14\n",
       "3  1985      1       4        UNLV  San Diego St      13\n",
       "4  1985      1       5  Washington      Kentucky      12"
      ],
      "text/html": "<div>\n<style scoped>\n    .dataframe tbody tr th:only-of-type {\n        vertical-align: middle;\n    }\n\n    .dataframe tbody tr th {\n        vertical-align: top;\n    }\n\n    .dataframe thead th {\n        text-align: right;\n    }\n</style>\n<table border=\"1\" class=\"dataframe\">\n  <thead>\n    <tr style=\"text-align: right;\">\n      <th></th>\n      <th>year</th>\n      <th>round</th>\n      <th>seed_1</th>\n      <th>college_1</th>\n      <th>college_2</th>\n      <th>seed_2</th>\n    </tr>\n  </thead>\n  <tbody>\n    <tr>\n      <th>0</th>\n      <td>1985</td>\n      <td>1</td>\n      <td>1</td>\n      <td>St Johns</td>\n      <td>Southern</td>\n      <td>16</td>\n    </tr>\n    <tr>\n      <th>1</th>\n      <td>1985</td>\n      <td>1</td>\n      <td>2</td>\n      <td>VCU</td>\n      <td>Marshall</td>\n      <td>15</td>\n    </tr>\n    <tr>\n      <th>2</th>\n      <td>1985</td>\n      <td>1</td>\n      <td>3</td>\n      <td>NC State</td>\n      <td>Nevada</td>\n      <td>14</td>\n    </tr>\n    <tr>\n      <th>3</th>\n      <td>1985</td>\n      <td>1</td>\n      <td>4</td>\n      <td>UNLV</td>\n      <td>San Diego St</td>\n      <td>13</td>\n    </tr>\n    <tr>\n      <th>4</th>\n      <td>1985</td>\n      <td>1</td>\n      <td>5</td>\n      <td>Washington</td>\n      <td>Kentucky</td>\n      <td>12</td>\n    </tr>\n  </tbody>\n</table>\n</div>"
     },
     "metadata": {},
     "execution_count": 4
    }
   ],
   "source": [
    "# Drop some columns that are not needed and rename columns so they match in SQL database\n",
    "tourney_data = tourney_data[[\"Year\", \"Round\", \"Seed\", \"Team\", \"Team.1\", \"Seed.1\"]]\n",
    "tourney_data_df = tourney_data.rename(columns={\"Year\":\"year\", \"Round\":\"round\", \"Seed\":\"seed_1\", \"Team\":\"college_1\", \"Team.1\":\"college_2\", \"Seed.1\":\"seed_2\"})\n",
    "tourney_data_df.head()"
   ]
  },
  {
   "cell_type": "code",
   "execution_count": 5,
   "metadata": {},
   "outputs": [
    {
     "output_type": "execute_result",
     "data": {
      "text/plain": [
       "      year  round  seed_1    college_1     college_2  seed_2\n",
       "0     1985      1       1     St Johns      Southern      16\n",
       "1     1985      1       2          VCU      Marshall      15\n",
       "2     1985      1       3     NC State        Nevada      14\n",
       "3     1985      1       4         UNLV  San Diego St      13\n",
       "4     1985      1       5   Washington      Kentucky      12\n",
       "...    ...    ...     ...          ...           ...     ...\n",
       "1948  2015      4       4   Louisville   Michigan St       7\n",
       "1949  2015      4       1         Duke       Gonzaga       2\n",
       "1950  2015      5       1     Kentucky     Wisconsin       1\n",
       "1951  2015      5       7  Michigan St          Duke       1\n",
       "1952  2015      6       1    Wisconsin          Duke       1\n",
       "\n",
       "[1953 rows x 6 columns]"
      ],
      "text/html": "<div>\n<style scoped>\n    .dataframe tbody tr th:only-of-type {\n        vertical-align: middle;\n    }\n\n    .dataframe tbody tr th {\n        vertical-align: top;\n    }\n\n    .dataframe thead th {\n        text-align: right;\n    }\n</style>\n<table border=\"1\" class=\"dataframe\">\n  <thead>\n    <tr style=\"text-align: right;\">\n      <th></th>\n      <th>year</th>\n      <th>round</th>\n      <th>seed_1</th>\n      <th>college_1</th>\n      <th>college_2</th>\n      <th>seed_2</th>\n    </tr>\n  </thead>\n  <tbody>\n    <tr>\n      <th>0</th>\n      <td>1985</td>\n      <td>1</td>\n      <td>1</td>\n      <td>St Johns</td>\n      <td>Southern</td>\n      <td>16</td>\n    </tr>\n    <tr>\n      <th>1</th>\n      <td>1985</td>\n      <td>1</td>\n      <td>2</td>\n      <td>VCU</td>\n      <td>Marshall</td>\n      <td>15</td>\n    </tr>\n    <tr>\n      <th>2</th>\n      <td>1985</td>\n      <td>1</td>\n      <td>3</td>\n      <td>NC State</td>\n      <td>Nevada</td>\n      <td>14</td>\n    </tr>\n    <tr>\n      <th>3</th>\n      <td>1985</td>\n      <td>1</td>\n      <td>4</td>\n      <td>UNLV</td>\n      <td>San Diego St</td>\n      <td>13</td>\n    </tr>\n    <tr>\n      <th>4</th>\n      <td>1985</td>\n      <td>1</td>\n      <td>5</td>\n      <td>Washington</td>\n      <td>Kentucky</td>\n      <td>12</td>\n    </tr>\n    <tr>\n      <th>...</th>\n      <td>...</td>\n      <td>...</td>\n      <td>...</td>\n      <td>...</td>\n      <td>...</td>\n      <td>...</td>\n    </tr>\n    <tr>\n      <th>1948</th>\n      <td>2015</td>\n      <td>4</td>\n      <td>4</td>\n      <td>Louisville</td>\n      <td>Michigan St</td>\n      <td>7</td>\n    </tr>\n    <tr>\n      <th>1949</th>\n      <td>2015</td>\n      <td>4</td>\n      <td>1</td>\n      <td>Duke</td>\n      <td>Gonzaga</td>\n      <td>2</td>\n    </tr>\n    <tr>\n      <th>1950</th>\n      <td>2015</td>\n      <td>5</td>\n      <td>1</td>\n      <td>Kentucky</td>\n      <td>Wisconsin</td>\n      <td>1</td>\n    </tr>\n    <tr>\n      <th>1951</th>\n      <td>2015</td>\n      <td>5</td>\n      <td>7</td>\n      <td>Michigan St</td>\n      <td>Duke</td>\n      <td>1</td>\n    </tr>\n    <tr>\n      <th>1952</th>\n      <td>2015</td>\n      <td>6</td>\n      <td>1</td>\n      <td>Wisconsin</td>\n      <td>Duke</td>\n      <td>1</td>\n    </tr>\n  </tbody>\n</table>\n<p>1953 rows × 6 columns</p>\n</div>"
     },
     "metadata": {},
     "execution_count": 5
    }
   ],
   "source": [
    "tourney_data_clean = tourney_data_df.loc[tourney_data_df[\"year\"] != 2016]\n",
    "tourney_data_clean = tourney_data_clean.loc[tourney_data_df[\"year\"] != 2017]\n",
    "tourney_data_clean = tourney_data_clean.loc[tourney_data_df[\"year\"] != 2018]\n",
    "tourney_data_cleaned = tourney_data_clean.loc[tourney_data_df[\"year\"] != 2019]\n",
    "tourney_data_cleaned"
   ]
  },
  {
   "cell_type": "code",
   "execution_count": 6,
   "metadata": {},
   "outputs": [
    {
     "output_type": "execute_result",
     "data": {
      "text/plain": [
       "   Unnamed: 0           Player  All_NBA  All.Star  Draft_Yr  Pk Team  \\\n",
       "0           1    Robert Parish        2         9      1976   8  GSW   \n",
       "1           2     Sonny Parker        0         0      1976  17  GSW   \n",
       "2           3  Marshall Rogers        0         0      1976  34  GSW   \n",
       "3           4      Jeff Fosnes        0         0      1976  68  GSW   \n",
       "4           5        Carl Bird        0         0      1976  86  GSW   \n",
       "\n",
       "                            College  Yrs  Games  ...  Executive  \\\n",
       "0    Centenary College of Louisiana   21   1611  ...  Al Attles   \n",
       "1              Texas A&M University    6    452  ...  Al Attles   \n",
       "2  University of Texas-Pan American    1     26  ...  Al Attles   \n",
       "3             Vanderbilt University    0      0  ...  Al Attles   \n",
       "4          University of California    0      0  ...  Al Attles   \n",
       "\n",
       "                         Tenure  Exec_ID  Exec_draft_exp  attend_college  \\\n",
       "0  3641 days 00:00:00.000000000        1               1               1   \n",
       "1  3641 days 00:00:00.000000000        1               1               1   \n",
       "2  3641 days 00:00:00.000000000        1               1               1   \n",
       "3  3641 days 00:00:00.000000000        1               1               1   \n",
       "4  3641 days 00:00:00.000000000        1               1               1   \n",
       "\n",
       "   first_year  second_year  third_year  fourth_year  fifth_year  \n",
       "0           0            0           0            0           0  \n",
       "1           0            0           0            0           0  \n",
       "2           0            0           0            0           0  \n",
       "3           0            0           0            0           0  \n",
       "4           0            0           0            0           0  \n",
       "\n",
       "[5 rows x 35 columns]"
      ],
      "text/html": "<div>\n<style scoped>\n    .dataframe tbody tr th:only-of-type {\n        vertical-align: middle;\n    }\n\n    .dataframe tbody tr th {\n        vertical-align: top;\n    }\n\n    .dataframe thead th {\n        text-align: right;\n    }\n</style>\n<table border=\"1\" class=\"dataframe\">\n  <thead>\n    <tr style=\"text-align: right;\">\n      <th></th>\n      <th>Unnamed: 0</th>\n      <th>Player</th>\n      <th>All_NBA</th>\n      <th>All.Star</th>\n      <th>Draft_Yr</th>\n      <th>Pk</th>\n      <th>Team</th>\n      <th>College</th>\n      <th>Yrs</th>\n      <th>Games</th>\n      <th>...</th>\n      <th>Executive</th>\n      <th>Tenure</th>\n      <th>Exec_ID</th>\n      <th>Exec_draft_exp</th>\n      <th>attend_college</th>\n      <th>first_year</th>\n      <th>second_year</th>\n      <th>third_year</th>\n      <th>fourth_year</th>\n      <th>fifth_year</th>\n    </tr>\n  </thead>\n  <tbody>\n    <tr>\n      <th>0</th>\n      <td>1</td>\n      <td>Robert Parish</td>\n      <td>2</td>\n      <td>9</td>\n      <td>1976</td>\n      <td>8</td>\n      <td>GSW</td>\n      <td>Centenary College of Louisiana</td>\n      <td>21</td>\n      <td>1611</td>\n      <td>...</td>\n      <td>Al Attles</td>\n      <td>3641 days 00:00:00.000000000</td>\n      <td>1</td>\n      <td>1</td>\n      <td>1</td>\n      <td>0</td>\n      <td>0</td>\n      <td>0</td>\n      <td>0</td>\n      <td>0</td>\n    </tr>\n    <tr>\n      <th>1</th>\n      <td>2</td>\n      <td>Sonny Parker</td>\n      <td>0</td>\n      <td>0</td>\n      <td>1976</td>\n      <td>17</td>\n      <td>GSW</td>\n      <td>Texas A&amp;M University</td>\n      <td>6</td>\n      <td>452</td>\n      <td>...</td>\n      <td>Al Attles</td>\n      <td>3641 days 00:00:00.000000000</td>\n      <td>1</td>\n      <td>1</td>\n      <td>1</td>\n      <td>0</td>\n      <td>0</td>\n      <td>0</td>\n      <td>0</td>\n      <td>0</td>\n    </tr>\n    <tr>\n      <th>2</th>\n      <td>3</td>\n      <td>Marshall Rogers</td>\n      <td>0</td>\n      <td>0</td>\n      <td>1976</td>\n      <td>34</td>\n      <td>GSW</td>\n      <td>University of Texas-Pan American</td>\n      <td>1</td>\n      <td>26</td>\n      <td>...</td>\n      <td>Al Attles</td>\n      <td>3641 days 00:00:00.000000000</td>\n      <td>1</td>\n      <td>1</td>\n      <td>1</td>\n      <td>0</td>\n      <td>0</td>\n      <td>0</td>\n      <td>0</td>\n      <td>0</td>\n    </tr>\n    <tr>\n      <th>3</th>\n      <td>4</td>\n      <td>Jeff Fosnes</td>\n      <td>0</td>\n      <td>0</td>\n      <td>1976</td>\n      <td>68</td>\n      <td>GSW</td>\n      <td>Vanderbilt University</td>\n      <td>0</td>\n      <td>0</td>\n      <td>...</td>\n      <td>Al Attles</td>\n      <td>3641 days 00:00:00.000000000</td>\n      <td>1</td>\n      <td>1</td>\n      <td>1</td>\n      <td>0</td>\n      <td>0</td>\n      <td>0</td>\n      <td>0</td>\n      <td>0</td>\n    </tr>\n    <tr>\n      <th>4</th>\n      <td>5</td>\n      <td>Carl Bird</td>\n      <td>0</td>\n      <td>0</td>\n      <td>1976</td>\n      <td>86</td>\n      <td>GSW</td>\n      <td>University of California</td>\n      <td>0</td>\n      <td>0</td>\n      <td>...</td>\n      <td>Al Attles</td>\n      <td>3641 days 00:00:00.000000000</td>\n      <td>1</td>\n      <td>1</td>\n      <td>1</td>\n      <td>0</td>\n      <td>0</td>\n      <td>0</td>\n      <td>0</td>\n      <td>0</td>\n    </tr>\n  </tbody>\n</table>\n<p>5 rows × 35 columns</p>\n</div>"
     },
     "metadata": {},
     "execution_count": 6
    }
   ],
   "source": [
    "# Create pandas table for draft pick data\n",
    "draft_pick = pd.read_csv(csv_draft_pick)\n",
    "draft_pick.head()"
   ]
  },
  {
   "cell_type": "code",
   "execution_count": 7,
   "metadata": {},
   "outputs": [
    {
     "output_type": "execute_result",
     "data": {
      "text/plain": [
       "            player  draft_yr                           college\n",
       "0    Robert Parish      1976    Centenary College of Louisiana\n",
       "1     Sonny Parker      1976              Texas A&M University\n",
       "2  Marshall Rogers      1976  University of Texas-Pan American\n",
       "3      Jeff Fosnes      1976             Vanderbilt University\n",
       "4        Carl Bird      1976          University of California"
      ],
      "text/html": "<div>\n<style scoped>\n    .dataframe tbody tr th:only-of-type {\n        vertical-align: middle;\n    }\n\n    .dataframe tbody tr th {\n        vertical-align: top;\n    }\n\n    .dataframe thead th {\n        text-align: right;\n    }\n</style>\n<table border=\"1\" class=\"dataframe\">\n  <thead>\n    <tr style=\"text-align: right;\">\n      <th></th>\n      <th>player</th>\n      <th>draft_yr</th>\n      <th>college</th>\n    </tr>\n  </thead>\n  <tbody>\n    <tr>\n      <th>0</th>\n      <td>Robert Parish</td>\n      <td>1976</td>\n      <td>Centenary College of Louisiana</td>\n    </tr>\n    <tr>\n      <th>1</th>\n      <td>Sonny Parker</td>\n      <td>1976</td>\n      <td>Texas A&amp;M University</td>\n    </tr>\n    <tr>\n      <th>2</th>\n      <td>Marshall Rogers</td>\n      <td>1976</td>\n      <td>University of Texas-Pan American</td>\n    </tr>\n    <tr>\n      <th>3</th>\n      <td>Jeff Fosnes</td>\n      <td>1976</td>\n      <td>Vanderbilt University</td>\n    </tr>\n    <tr>\n      <th>4</th>\n      <td>Carl Bird</td>\n      <td>1976</td>\n      <td>University of California</td>\n    </tr>\n  </tbody>\n</table>\n</div>"
     },
     "metadata": {},
     "execution_count": 7
    }
   ],
   "source": [
    "# Drop some columns that are not needed and rename so it matches in SQL database\n",
    "draft_pick = draft_pick[[\"Player\", \"Draft_Yr\", \"College\"]]\n",
    "draft_pick_df = draft_pick.rename(columns={\"Player\":\"player\", \"Draft_Yr\":\"draft_yr\", \"College\":\"college\"})\n",
    "draft_pick_df.head()"
   ]
  },
  {
   "cell_type": "code",
   "execution_count": 9,
   "metadata": {},
   "outputs": [
    {
     "output_type": "execute_result",
     "data": {
      "text/plain": [
       "              player  draft_yr                                college\n",
       "96      Chris Mullin      1985                  St. John's University\n",
       "97       Brad Wright      1985  University of California, Los Angeles\n",
       "98    Luster Goodwin      1985         University of Texas at El Paso\n",
       "99      Greg Cavener      1985                 University of Missouri\n",
       "100    Gerald Crosby      1985                  University of Georgia\n",
       "...              ...       ...                                    ...\n",
       "3919    Steve Rogers      1992               Alabama State University\n",
       "3920     Rex Walters      1993                   University of Kansas\n",
       "3921       John Best      1993     Tennessee Technological University\n",
       "3922      Yinka Dare      1994           George Washington University\n",
       "3923     Ed O'Bannon      1995  University of California, Los Angeles\n",
       "\n",
       "[2120 rows x 3 columns]"
      ],
      "text/html": "<div>\n<style scoped>\n    .dataframe tbody tr th:only-of-type {\n        vertical-align: middle;\n    }\n\n    .dataframe tbody tr th {\n        vertical-align: top;\n    }\n\n    .dataframe thead th {\n        text-align: right;\n    }\n</style>\n<table border=\"1\" class=\"dataframe\">\n  <thead>\n    <tr style=\"text-align: right;\">\n      <th></th>\n      <th>player</th>\n      <th>draft_yr</th>\n      <th>college</th>\n    </tr>\n  </thead>\n  <tbody>\n    <tr>\n      <th>96</th>\n      <td>Chris Mullin</td>\n      <td>1985</td>\n      <td>St. John's University</td>\n    </tr>\n    <tr>\n      <th>97</th>\n      <td>Brad Wright</td>\n      <td>1985</td>\n      <td>University of California, Los Angeles</td>\n    </tr>\n    <tr>\n      <th>98</th>\n      <td>Luster Goodwin</td>\n      <td>1985</td>\n      <td>University of Texas at El Paso</td>\n    </tr>\n    <tr>\n      <th>99</th>\n      <td>Greg Cavener</td>\n      <td>1985</td>\n      <td>University of Missouri</td>\n    </tr>\n    <tr>\n      <th>100</th>\n      <td>Gerald Crosby</td>\n      <td>1985</td>\n      <td>University of Georgia</td>\n    </tr>\n    <tr>\n      <th>...</th>\n      <td>...</td>\n      <td>...</td>\n      <td>...</td>\n    </tr>\n    <tr>\n      <th>3919</th>\n      <td>Steve Rogers</td>\n      <td>1992</td>\n      <td>Alabama State University</td>\n    </tr>\n    <tr>\n      <th>3920</th>\n      <td>Rex Walters</td>\n      <td>1993</td>\n      <td>University of Kansas</td>\n    </tr>\n    <tr>\n      <th>3921</th>\n      <td>John Best</td>\n      <td>1993</td>\n      <td>Tennessee Technological University</td>\n    </tr>\n    <tr>\n      <th>3922</th>\n      <td>Yinka Dare</td>\n      <td>1994</td>\n      <td>George Washington University</td>\n    </tr>\n    <tr>\n      <th>3923</th>\n      <td>Ed O'Bannon</td>\n      <td>1995</td>\n      <td>University of California, Los Angeles</td>\n    </tr>\n  </tbody>\n</table>\n<p>2120 rows × 3 columns</p>\n</div>"
     },
     "metadata": {},
     "execution_count": 9
    }
   ],
   "source": [
    "draft_pick_clean = draft_pick_df.loc[draft_pick_df[\"draft_yr\"] != 1976]\n",
    "draft_pick_clean = draft_pick_clean.loc[draft_pick_clean[\"draft_yr\"] != 1977]\n",
    "draft_pick_clean = draft_pick_clean.loc[draft_pick_clean[\"draft_yr\"] != 1978]\n",
    "draft_pick_clean = draft_pick_clean.loc[draft_pick_clean[\"draft_yr\"] != 1979]\n",
    "draft_pick_clean = draft_pick_clean.loc[draft_pick_clean[\"draft_yr\"] != 1980]\n",
    "draft_pick_clean = draft_pick_clean.loc[draft_pick_clean[\"draft_yr\"] != 1981]\n",
    "draft_pick_clean = draft_pick_clean.loc[draft_pick_clean[\"draft_yr\"] != 1982]\n",
    "draft_pick_clean = draft_pick_clean.loc[draft_pick_clean[\"draft_yr\"] != 1983]\n",
    "draft_pick_cleaned = draft_pick_clean.loc[draft_pick_clean[\"draft_yr\"] != 1984]\n",
    "draft_pick_cleaned"
   ]
  },
  {
   "cell_type": "code",
   "execution_count": 10,
   "metadata": {},
   "outputs": [],
   "source": [
    "# Create the connection between pandas data frames and SQL database tables\n",
    "connection_string = \"postgres:101219@localhost:5432/ETL_project\"\n",
    "engine = create_engine(f'postgresql://{connection_string}')"
   ]
  },
  {
   "cell_type": "code",
   "execution_count": 11,
   "metadata": {},
   "outputs": [
    {
     "output_type": "execute_result",
     "data": {
      "text/plain": [
       "['tournament_games', 'draft_picks']"
      ]
     },
     "metadata": {},
     "execution_count": 11
    }
   ],
   "source": [
    "# Check to see that the connection was made\n",
    "engine.table_names()"
   ]
  },
  {
   "cell_type": "code",
   "execution_count": 12,
   "metadata": {},
   "outputs": [],
   "source": [
    "# Upload the data frame tourney_data_df into SQL database table tournament_games\n",
    "tourney_data_cleaned.to_sql(name='tournament_games', con=engine, if_exists='append', index=False)"
   ]
  },
  {
   "cell_type": "code",
   "execution_count": 13,
   "metadata": {},
   "outputs": [],
   "source": [
    "# Upload the data frame draft_pick_df into SQL database table draft_picks\n",
    "draft_pick_cleaned.to_sql(name='draft_picks', con=engine, if_exists='append', index=False)"
   ]
  },
  {
   "cell_type": "code",
   "execution_count": null,
   "metadata": {},
   "outputs": [],
   "source": []
  }
 ]
}